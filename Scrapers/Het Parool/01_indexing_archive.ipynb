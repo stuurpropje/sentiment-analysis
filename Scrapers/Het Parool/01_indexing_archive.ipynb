{
 "cells": [
  {
   "cell_type": "code",
   "execution_count": 1,
   "metadata": {},
   "outputs": [],
   "source": [
    "# Archive structure\n",
    "# https://www.parool.nl/archief/2007/1/1\n",
    "# Ranging from 2007-01-01 up to present "
   ]
  },
  {
   "cell_type": "code",
   "execution_count": 2,
   "metadata": {},
   "outputs": [],
   "source": [
    "import pandas as pd"
   ]
  },
  {
   "cell_type": "code",
   "execution_count": 5,
   "metadata": {},
   "outputs": [
    {
     "name": "stdout",
     "output_type": "stream",
     "text": [
      "['2023/09/22', '2023/09/23', '2023/09/24', '2023/09/25', '2023/09/26', '2023/09/27', '2023/09/28', '2023/09/29', '2023/09/30', '2023/10/01']\n"
     ]
    }
   ],
   "source": [
    "date_range = list(pd.date_range('2023-08-01', '2023-10-01', freq='D'))\n",
    "\n",
    "dates = []\n",
    "for d in date_range:\n",
    "    dates.append(str(d)[:10].replace('-', '/'))\n",
    "\n",
    "print(dates[-10:])"
   ]
  },
  {
   "cell_type": "code",
   "execution_count": 7,
   "metadata": {},
   "outputs": [
    {
     "name": "stdout",
     "output_type": "stream",
     "text": [
      "62\n",
      "['https://www.parool.nl/archief/2023/09/22', 'https://www.parool.nl/archief/2023/09/23', 'https://www.parool.nl/archief/2023/09/24', 'https://www.parool.nl/archief/2023/09/25', 'https://www.parool.nl/archief/2023/09/26', 'https://www.parool.nl/archief/2023/09/27', 'https://www.parool.nl/archief/2023/09/28', 'https://www.parool.nl/archief/2023/09/29', 'https://www.parool.nl/archief/2023/09/30', 'https://www.parool.nl/archief/2023/10/01']\n"
     ]
    }
   ],
   "source": [
    "#https://www.trouw.nl/archief/2000/1/3\n",
    "daily_archive_urls = [f\"https://www.parool.nl/archief/{date}\" for date in dates]\n",
    "print(len(daily_archive_urls))\n",
    "print(daily_archive_urls[-10:])"
   ]
  }
 ],
 "metadata": {
  "kernelspec": {
   "display_name": "Python 3",
   "language": "python",
   "name": "python3"
  },
  "language_info": {
   "codemirror_mode": {
    "name": "ipython",
    "version": 3
   },
   "file_extension": ".py",
   "mimetype": "text/x-python",
   "name": "python",
   "nbconvert_exporter": "python",
   "pygments_lexer": "ipython3",
   "version": "3.11.5"
  }
 },
 "nbformat": 4,
 "nbformat_minor": 4
}
