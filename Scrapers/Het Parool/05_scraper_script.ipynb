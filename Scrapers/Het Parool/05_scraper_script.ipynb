{
 "cells": [
  {
   "cell_type": "code",
   "execution_count": 20,
   "metadata": {},
   "outputs": [],
   "source": [
    "from datetime import datetime\n",
    "from dateutil.relativedelta import relativedelta\n",
    "\n",
    "import time\n",
    "import random\n",
    "\n",
    "from bs4 import BeautifulSoup\n",
    "import requests as req\n",
    "from fake_useragent import UserAgent\n",
    "import pandas as pd\n",
    "\n",
    "import json\n",
    "import w3lib.html\n",
    "\n",
    "from lxml import html\n",
    "from tqdm import tqdm"
   ]
  },
  {
   "cell_type": "code",
   "execution_count": 21,
   "metadata": {},
   "outputs": [],
   "source": [
    "class Scraper():\n",
    "    def __init__(self):\n",
    "        self.ua = UserAgent()\n",
    "        self.headers = req.utils.default_headers()\n",
    "    \n",
    "    def index_archive(self):\n",
    "        date_range = list(pd.date_range('2023-08-01', '2023-08-02', freq='D'))\n",
    "\n",
    "        dates = []\n",
    "        for d in date_range:\n",
    "            dates.append(str(d)[:10].replace('-', '/'))\n",
    "        \n",
    "        self.archive_urls = [f\"https://www.parool.nl/archief/{date}\" for date in dates]\n",
    "        \n",
    "    def index_urls(self):\n",
    "        \n",
    "        def fetchArchiveURL(url):\n",
    "            document = {}\n",
    "\n",
    "            try:\n",
    "                # Random User Agent\n",
    "                self.headers.update({'User-Agent': self.ua.random,})\n",
    "                r = req.get(url)\n",
    "                r.raise_for_status()\n",
    "            except req.exceptions.HTTPError as err:\n",
    "                pass\n",
    "            else:        \n",
    "                document['url'] = url\n",
    "                document['raw_html'] = r.content\n",
    "                document['in_cache_date'] = datetime.utcnow()\n",
    "\n",
    "            return document\n",
    "        \n",
    "        def parseArchiveURL(url):\n",
    "            doc = fetchArchiveURL(url)\n",
    "            raw_html = doc['raw_html']\n",
    "            soup = BeautifulSoup(raw_html, 'html')\n",
    "            tree = html.fromstring(raw_html)\n",
    "\n",
    "            try:\n",
    "                article_urls = tree.xpath('/html/body/main/div[2]/*/a[@class=\"teaser__link\"]/@href')\n",
    "            except: \n",
    "                article_urls = None\n",
    "\n",
    "\n",
    "            return article_urls\n",
    "        \n",
    "        self.article_urls = []\n",
    "        print('Indexing urls: ')\n",
    "        for url in tqdm(self.archive_urls):\n",
    "            # Simulate human usage \n",
    "            time.sleep(random.randint(0, 3))\n",
    "            self.article_urls.extend(parseArchiveURL(url))\n",
    "        \n",
    "        self.article_urls = [x for x in self.article_urls]\n",
    "    \n",
    "    def crawl_articles(self):\n",
    "        \n",
    "        def fetchArticle(url):\n",
    "            document = {}\n",
    "\n",
    "            try:\n",
    "                # Random User Agent\n",
    "                self.headers.update({'User-Agent': self.ua.random,})\n",
    "                r = req.get(url)\n",
    "                r.raise_for_status()\n",
    "\n",
    "            except req.exceptions.HTTPError as err:\n",
    "                # TODO: add error handling\n",
    "                pass\n",
    "\n",
    "            else:        \n",
    "                document['url'] = url\n",
    "                document['raw_html'] = r.content\n",
    "                document['in_cache_date'] = datetime.utcnow()\n",
    "                document['parsed'] = 0\n",
    "\n",
    "            return document\n",
    "        \n",
    "        self.articles = []\n",
    "        print('Crawling articles: ')\n",
    "        for url in tqdm(self.article_urls):\n",
    "            # Simulate human usage\n",
    "            time.sleep(random.randint(0, 3))\n",
    "            self.articles.append(fetchArticle(url))\n",
    "    \n",
    "    def clean_articles(self):\n",
    "        \n",
    "        def parse_article(r):\n",
    "            try:\n",
    "                a = {}\n",
    "\n",
    "                a['url']  = r['url']\n",
    "\n",
    "                tree = html.fromstring(r['raw_html'])\n",
    "\n",
    "                try:\n",
    "\n",
    "                    a['timestamp'] = tree.xpath('/html/body/main/article/header/section/time[@class=\"artstyle__production__datetime\"]/@datetime')[0].strip()\n",
    "                except: \n",
    "                    a['timestamp'] = None\n",
    "                try:\n",
    "                    a['title'] = tree.xpath('//h1/text()')[0].strip()\n",
    "                except:\n",
    "                    a['title'] = None\n",
    "                try:\n",
    "                    a['publisherID'] = tree.xpath('/html/body/main/article/header/section/span[1]/a/text()')[0].strip()\n",
    "                except:\n",
    "                    a['publisherID'] = None\n",
    "                try:\n",
    "                    a['cleantext'] = ''.join(tree.xpath('//html/body/main/article/section/section/*/text()')[1:])\n",
    "                except:\n",
    "                    a['cleantext'] = None\n",
    "                try:\n",
    "                    a['category'] = tree.xpath('/html/body/main/section/div[2]/h2/a/span/text()')[0].strip()\n",
    "                except:\n",
    "                    a['category'] = None\n",
    "            except:\n",
    "                pass\n",
    "\n",
    "            return a\n",
    "\n",
    "\n",
    "        print('Cleaning articles:')\n",
    "        self.cleaned_articles = []\n",
    "        for article in tqdm(self.articles):\n",
    "            self.cleaned_articles.append(parse_article(article))\n",
    "    \n",
    "    def save_json(self):\n",
    "        \n",
    "        with open('HetParool.json', 'w') as file:\n",
    "            json.dump(self.cleaned_articles, file, indent=4)\n",
    "            \n",
    "    "
   ]
  },
  {
   "cell_type": "code",
   "execution_count": 22,
   "metadata": {},
   "outputs": [],
   "source": [
    "scraper = Scraper()"
   ]
  },
  {
   "cell_type": "code",
   "execution_count": 23,
   "metadata": {},
   "outputs": [],
   "source": [
    "scraper.index_archive()"
   ]
  },
  {
   "cell_type": "code",
   "execution_count": 24,
   "metadata": {},
   "outputs": [
    {
     "name": "stdout",
     "output_type": "stream",
     "text": [
      "Indexing urls: \n"
     ]
    },
    {
     "name": "stderr",
     "output_type": "stream",
     "text": [
      "100%|██████████| 2/2 [00:02<00:00,  1.44s/it]\n"
     ]
    }
   ],
   "source": [
    "scraper.index_urls()"
   ]
  },
  {
   "cell_type": "code",
   "execution_count": 25,
   "metadata": {},
   "outputs": [
    {
     "name": "stdout",
     "output_type": "stream",
     "text": [
      "['https://www.parool.nl/wereld/aanklacht-tegen-donald-trump-wegens-poging-tot-belemmeren-verkiezingsuitslag-in-2020~b1217c6b/', 'https://www.parool.nl/nederland/aantal-vliegreizigers-schiphol-groeit-onstuimig-met-52-5-miljoen-tweede-luchthaven-van-eu~bfc809a8/', 'https://www.parool.nl/kunst-media/rechtszaak-tegen-lizzo-zangeres-dwong-haar-personeel-in-amsterdamse-stripclub-tot-seksuele-handelingen~bdbbecb3/', 'https://www.parool.nl/nederland/overval-op-winkel-gelderlandplein-twee-verdachten-aangehouden~be21624e/', 'https://www.parool.nl/nederland/omtzigt-stelt-besluit-over-politieke-toekomst-uit-eerst-op-vakantie~baba0477/', 'https://www.parool.nl/nederland/ihattaren-op-weg-naar-turkse-club-samsunspor~bab7836c/', 'https://www.parool.nl/ps/pap-huilde-omdat-hij-overspoeld-werd-door-een-intens-geluk-over-ons-gezin~bb388ec3/', 'https://www.parool.nl/ps/een-nieuwe-hobby-dankzij-storm-poly-van-omgewaaide-bomen-parkbankjes-maken~b91ed4fb/', 'https://www.parool.nl/ps/ooit-ontwierp-annet-weelink-h-m-kleding-nu-opent-ze-haar-eigen-winkel-met-op-maat-gemaakt-behang~bff797c7/', 'https://www.parool.nl/ps/zoek-de-verschillen-bickerseiland-in-1883-en-2023~ba08b307/', 'https://www.parool.nl/amsterdam/amsterdammer-gegijzeld-bedreigd-en-gestoken-in-parkeergarage-hakfort-tot-toevallig-politie-passeert~b1948ceca/', 'https://www.parool.nl/nederland/burgemeester-halsema-sluit-autogarage-in-amsterdam-noord-vanwege-hennepplantages~bae2c10e/', 'https://www.parool.nl/nederland/carlos-borges-manchester-city-wordt-nieuwe-vleugelaanvaller-ajax~bfc1f133/', 'https://www.parool.nl/amsterdam/pieter-nieuwkamp-1928-2023-zorgde-zijn-hele-leven-voor-zijn-buurttuin-in-west~bc49b9c8/', 'https://www.parool.nl/ps/van-surinaamse-rituelen-tot-circusacts-van-opblaasbare-vibrator-tot-blow-up-artis-de-partis-op-deze-15-boten-moet-je-letten-tijdens-de-canal-parade~ba551f67/', 'https://www.parool.nl/columns-opinie/oplossing-voor-het-klimaatprobleem-vervang-die-kinderbijslag-door-kinderbelasting~bbb5bfc0/', 'https://www.parool.nl/nederland/om-eist-cel-voor-zware-mishandeling-van-vrouw-20-in-club-air~b8624ff9/', 'https://www.parool.nl/ps/streetart-frankey-viert-pride-met-dit-kunstwerk-op-de-spadinalaan~bdf9fd1a/', 'https://www.parool.nl/amsterdam/elke-25-meter-een-bord-amsterdam-in-top-5-hoogste-dichtheid-verkeersborden~bdab5556/', 'https://www.parool.nl/nederland/tweede-kamer-versnippert-kamerlid-ephraim-bvnl-gaat-zelfstandig-verder~befb8e2b/', 'https://www.parool.nl/amsterdam/elias-assaf-38-uit-oost-vermoord-en-in-stukken-gesneden-in-woning-van-klooster-in-heiloo-ex-collega-verdacht~b6a955b0/', 'https://www.parool.nl/sport/frank-de-boer-koestert-de-rust-bij-al-jazira-ik-werkte-me-uit-de-naad-en-kreeg-er-alleen-maar-stress-van~bc8e8c9c/', 'https://www.parool.nl/ps/toeristen-in-de-stad-ik-ben-hier-op-doorreis-voor-een-begrafenis-het-is-de-ergste-reis-die-ik-ooit-heb-gemaakt~bf62feca/', 'https://www.parool.nl/nederland/rijkswaterstaat-geen-aanwijzing-dat-brand-op-vrachtschip-nog-woedt~b2c8e537/', 'https://www.parool.nl/sport/voetbalsters-oranje-als-groepswinnaar-verder-op-wk-dankzij-7-0-zege-op-vietnam~b12c280e/', 'https://www.parool.nl/kunst-media/beeldend-kunstenaar-joop-sanders-101-miste-in-de-vs-net-de-hoogtijdagen-van-het-abstract-expressionisme~b5542739/', 'https://www.parool.nl/nederland/pvda-er-nijboer-kondigt-afscheid-aan-gelooft-niet-volmondig-in-linkse-samenwerking~bdb4d66ee/', 'https://www.parool.nl/amsterdam/een-slachtoffer-steekpartij-amsterdam-west-overleden-ander-zwaargewond~b941326c/', 'https://www.parool.nl/kunst-media/teder-vertelde-chris-packham-over-gigantische-paddenstoelen-die-als-fallussen-de-hemel-in-schieten~bcc4f355/', 'https://www.parool.nl/kunst-media/euphoria-acteur-angus-cloud-op-25-jarige-leeftijd-overleden~b99ba1f7/', 'https://www.parool.nl/wereld/mag-je-een-koran-verbranden-denemarken-zweden-en-nederland-zoeken-naar-de-grenzen-van-de-wet~bb362329/', 'https://www.parool.nl/nederland/artsen-bezorgd-over-oudere-e-bikers-we-zien-veel-schedel-of-hersenletsel-bij-fietsongelukken~b803ed5b/', 'https://www.parool.nl/wereld/hoelang-kan-loekasjenko-de-wagnerhuurlingen-onder-controle-houden~b427b7ab/', 'https://www.parool.nl/amsterdam/tess-van-zwol-heeft-al-10-jaar-een-eigen-prideboot-tijdens-canal-parade-tof-als-meer-gewone-amsterdammers-meedoen~be29fc5f/', 'https://www.parool.nl/podcasts/hoe-amsterdamse-queers-meer-en-minder-ruimte-krijgen-in-de-stad~bb1d39c6/', 'https://www.parool.nl/amsterdam/zigzaggen-als-een-motorrijlesparcours-op-gladde-metalen-fietshelling-met-valgevaar-bij-veer-f9~b846f995/', 'https://www.parool.nl/columns-opinie/wat-de-magier-in-zijn-geest-had-gezien-noopte-hem-tot-snelle-maatregelen~b9794329/', 'https://www.parool.nl/columns-opinie/opinie-er-zijn-fors-meer-tweede-kamerleden-nodig~bd8b590a/', 'https://www.parool.nl/amsterdam/vrijwilliger-bij-de-brandweer-zit-ik-s-ochtends-op-mijn-werk-heb-ik-die-nacht-al-een-brand-geblust-dat-geeft-voldoening~bcb4d6f6/', 'https://www.parool.nl/kunst-media/sol-lewitt-liet-ook-op-het-markenplein-zijn-sporen-achter~b00c7a84/', 'https://www.parool.nl/amsterdam/het-regent-dat-het-giet-maar-amsterdamse-evenementen-zijn-niet-van-suiker-die-kinderen-maakt-het-niets-uit-joh-die-spelen-wel~b7ff37658/', 'https://www.parool.nl/nederland/rechter-beslecht-geschil-over-porsche-911-en-stelt-zorgondernemer-in-het-gelijk~b9a50a25/', 'https://www.parool.nl/nederland/gezocht-twee-kapotte-vanmooffietsen-voor-in-het-design-museum-in-den-bosch~b527ada8/', 'https://www.parool.nl/kunst-media/hoe-sinead-o-connor-ook-in-de-hilarische-film-the-butcher-boy-de-kerk-op-de-korrel-nam~ba5d6f06/', 'https://www.parool.nl/sport/met-alex-kroes-krijgt-ajax-een-directeur-die-de-voetbalwereld-van-haver-tot-gort-kent~b483cb3c/', 'https://www.parool.nl/wereld/negentien-nederlanders-geevacueerd-uit-niger~b91b5e39/', 'https://www.parool.nl/amsterdam/van-drugssmokkel-verdachte-boris-p-ontkent-band-met-criminele-kopstukken~b37c6ed8/', 'https://www.parool.nl/sport/alex-kroes-beoogd-algemeen-directeur-van-ajax-meerjarig-contract-ligt-klaar~b6ded4e7/', 'https://www.parool.nl/amsterdam/politie-kan-niets-met-suggestie-dat-ziyech-betrokken-was-bij-aanrijding-in-amsterdam-west~bcdd3fd6/', 'https://www.parool.nl/amsterdam/verdachte-dodelijke-steekpartij-robert-scottstraat-veroorzaakte-eerder-overlast~b4e1f334/', 'https://www.parool.nl/amsterdam/airtag-leidt-politie-naar-flat-met-honderden-gestolen-goederen~b3269d6e/', 'https://www.parool.nl/ps/de-deeleconomie-bereikt-nu-ook-de-deelkoffer-logisch-voor-iets-wat-je-maar-twee-keer-per-jaar-nodig-hebt~b8bc5c8c/', 'https://www.parool.nl/ps/wat-doen-tieners-op-hun-telefoon-simon-13-het-liefst-kijk-ik-naar-mensen-die-salto-s-maken~b58da53f/', 'https://www.parool.nl/film/recensie-il-primo-giorno-della-mia-vita-heeft-een-wel-erg-simplistische-kijk-op-depressie-en-zelfmoord~b5f841cf/', 'https://www.parool.nl/film/recensie-de-samenkomst-van-religie-en-homoseksualiteit-is-de-grootste-worsteling-van-all-our-fears~bf8d5885/', 'https://www.parool.nl/film/superposition-houdt-mensen-die-de-stad-ontvluchten-een-spiegel-voor-ze-zijn-heel-erg-met-zichzelf-bezig~b992fd52/', 'https://www.parool.nl/kunst-media/recensie-jesus-revolution-is-een-schoongewassen-versie-van-de-genesis-van-calvary-chapel~bf77b6481/', 'https://www.parool.nl/kunst-media/recensie-in-baghdad-messi-is-voetbal-juist-geen-oorlog~b06937d4/', 'https://www.parool.nl/film/op-een-echte-boodschap-kun-je-superheldenfilm-fumer-fait-tousser-niet-betrappen-gelukkig-maar~bb0d11fa5/', 'https://www.parool.nl/sport/mama-sherida-33-ziet-nog-geen-nieuwe-sherida-spitse-als-ze-verwend-raken-zeg-ik-daar-wat-van~b73354e7/', 'https://www.parool.nl/ps/stadsbeeld~b5e679ba/', 'https://www.parool.nl/wereld/nog-een-aanklacht-tegen-trump-waarschijnlijk-de-belangrijkste-dit-is-wat-we-weten~b99a3f24/', 'https://www.parool.nl/amsterdam/lichaam-gevonden-in-singelgracht-politie-doet-onderzoek~b5659aeb/', 'https://www.parool.nl/nederland/plan-omtzigt-krijgt-vorm-wel-meedoen-maar-niet-de-grootste-partij-worden~b7a9b53a/', 'https://www.parool.nl/amsterdam/advocaat-van-verdachte-overvaller-van-dusan-tadic-wraakt-rechtbank-op-laatste-moment~b1af9e15/', 'https://www.parool.nl/sport/sneijder-lost-conflict-met-f-side-op-wat-ik-in-het-verleden-heb-gedaan-was-niet-handig~b8f085b4/', 'https://www.parool.nl/nieuws/zeven-klimaatactivisten-krijgen-taakstraffen-voor-opruiing-rond-a12-blokkade-kondigen-beroep-aan~b808ef42/', 'https://www.parool.nl/amsterdam/om-uitspraken-amsterdams-corps-over-sperma-emmers-en-hoeren-niet-strafbaar~b077b3567/', 'https://www.parool.nl/amsterdam/de-rai-is-deze-week-het-toneel-van-het-grootste-gymnastiekfestival-ter-wereld-altijd-een-avontuur~b4d1d903/', 'https://www.parool.nl/ps/harry-potter-toverstokken-en-stormtroopershelmen-koop-je-bij-elbenwald-in-de-kalverstraat~b670a0c2/', 'https://www.parool.nl/sport/oranje-in-achtste-finale-wk-verrassend-tegen-zuid-afrika-dat-italie-verslaat~be65eb19/', 'https://www.parool.nl/kunst-media/prachtdocumentaire-amsterdamse-verzetsheld-arondeus-werd-postuum-een-icoon-voor-de-lhbtq-gemeenschap~bb57ad8d/', 'https://www.parool.nl/uit-in-amsterdam/het-festivalseizoen-is-in-volle-gang-dit-zijn-de-belangrijkste-dancefestivals-van-2023-in-amsterdam~b91314b2/', 'https://www.parool.nl/nederland/regen-lijkt-de-hele-dag-tegen-het-raam-te-tikken-is-het-echt-zo-n-waardeloze-zomer~b16de561/', 'https://www.parool.nl/wereld/brugts-overtuigt-tegen-vietnam-net-als-heel-oranje-er-komt-een-mooie-generatie-aan~bce25add/', 'https://www.parool.nl/wereld/derk-sauer-waarschuwt-poetin-stelde-nooit-heldere-doelen-maar-uit-alles-blijkt-dat-hij-bereid-is-tot-een-lange-strijd~bae9a6f4/', 'https://www.parool.nl/wereld/discussie-in-japan-over-barbenheimer-wat-als-wij-memes-maken-over-9-11-of-pearl-harbor~b8c440b5/', 'https://www.parool.nl/wereld/militaire-junta-s-west-afrika-sluiten-verbond-tegen-ecowas-en-westen-escalatie-dreigt~b6c606e0/', 'https://www.parool.nl/kunst-media/mocronado-s-de-eerste-generatie-marokkanen-over-integratie-marokko-en-nederland~b33c57a6/', 'https://www.parool.nl/amsterdam/directeur-jessica-jensen-verlaat-enige-categorale-havo-van-amsterdam-we-zien-havo-nog-steeds-als-tussenstation~b5166c26/', 'https://www.parool.nl/amsterdam/band-raoul-the-wisemen-wil-slovenie-veroveren-met-een-daar-zeer-bekende-mythe~bd6ed70b/', 'https://www.parool.nl/columns-opinie/wie-bedenkt-er-laten-we-de-ouders-van-zelensky-bombarderen~b1abfd20/', 'https://www.parool.nl/columns-opinie/opinie-het-weer-is-al-om-somber-van-te-worden-maar-echt-om-te-huilen-was-mijn-wandelingetje-in-de-leidsestraat~b07a00ac/', 'https://www.parool.nl/kunst-media/de-kunst-staat-er-al-in-de-sluisbuurt-nu-de-enorme-woontorens-nog~bcffeeb1/', 'https://www.parool.nl/wereld/los-angeles-wegen-zijn-overvol-kan-een-nieuwe-sneltram-reizigers-het-ov-in-lokken-klinkt-handig-misschien-ooit~bb393080/']\n"
     ]
    }
   ],
   "source": [
    "print(scraper.article_urls)"
   ]
  },
  {
   "cell_type": "code",
   "execution_count": 26,
   "metadata": {},
   "outputs": [
    {
     "name": "stdout",
     "output_type": "stream",
     "text": [
      "85\n"
     ]
    }
   ],
   "source": [
    "print(len(scraper.article_urls))"
   ]
  },
  {
   "cell_type": "code",
   "execution_count": 27,
   "metadata": {},
   "outputs": [
    {
     "name": "stdout",
     "output_type": "stream",
     "text": [
      "Crawling articles: \n"
     ]
    },
    {
     "name": "stderr",
     "output_type": "stream",
     "text": [
      "100%|██████████| 85/85 [03:09<00:00,  2.22s/it]\n"
     ]
    }
   ],
   "source": [
    "scraper.crawl_articles()"
   ]
  },
  {
   "cell_type": "code",
   "execution_count": 28,
   "metadata": {},
   "outputs": [
    {
     "name": "stdout",
     "output_type": "stream",
     "text": [
      "Cleaning articles:\n"
     ]
    },
    {
     "name": "stderr",
     "output_type": "stream",
     "text": [
      "100%|██████████| 85/85 [00:00<00:00, 291.80it/s]\n"
     ]
    }
   ],
   "source": [
    "scraper.clean_articles()"
   ]
  },
  {
   "cell_type": "code",
   "execution_count": 29,
   "metadata": {},
   "outputs": [],
   "source": [
    "scraper.save_json()"
   ]
  },
  {
   "cell_type": "code",
   "execution_count": 52,
   "metadata": {},
   "outputs": [
    {
     "data": {
      "text/plain": [
       "'\\n   \\n    \\n      Trump is op vier punten, waaronder samenzwering om de Verenigde Staten te bedriegen, aangeklaagd voor zijn pogingen om de uitslag van de presidentsverkiezingen van 2020 om te keren. De aanklacht is de derde strafzaak die is aangespannen tegen de voormalige president, tevens huidige koploper in de race om de Republikeinse nominatie voor de presidentsverkiezingen van 2024.\\n    \\n      \\n    \\n      In de aanklacht van 45 pagina’s staat dat Trump na zijn verlies in 2020 ‘vastbesloten was om aan de macht te blijven’ en samenzweringen pleegde die gericht waren op een ‘fundamentele functie van de federale regering van de Verenigde Staten: het nationale proces van het verzamelen, tellen en certificeren van de resultaten van de presidentsverkiezingen.’\\n    \\n      In de aanklacht worden zes mede-samenzweerders genoemd. Hun namen worden niet genoemd. Ook is niet duidelijk of zij apart zullen worden aangeklaagd.\\n    \\n      \\n    \\n      Een woordvoerder van Trump vergeleek de nieuwe aanklacht met ‘nazi-Duitsland in de jaren dertig, de voormalige Sovjet-Unie en andere autoritaire, dictatoriale regimes’ en noemde ze ‘on-Amerikaans’. In een bericht op zijn sociale mediaplatform Truth Social liet Trump eerder vandaag al weten dat hij ervan uitging nog dinsdag te worden aangeklaagd. Hij sprak over de ‘gestoorde’ speciaal aanklager Jack Smith en over een valse aanklacht. Smith klaagde Trump eerder al aan voor het meenemen en achterhouden van vertrouwelijke documenten uit het Witte Huis. Dat was de eerste keer dat een oud-president op dergelijk hoog niveau werd aangeklaagd.\\n    \\n      Trump meldde al een paar keer dat hij opnieuw vervolging verwachtte. Onlangs zei hij op Truth Social dat hij het doelwit is van een  op 6 januari 2021. Hij leverde toen geen bewijs dat zo’n zaak eraan zou komen en beschouwt het hoe dan ook als een politiek proces.\\n    \\n      De aanval op het Capitool kostte n. Trump had zijn aanhangers opgeroepen naar het Capitool te marcheren op de dag dat de verkiezingsuitslag, die was uitgevallen in het voordeel van Joe Biden, werd bekrachtigd in het Huis van Afgevaardigden. Trump greep niet in toen de bestorming volledig uit de hand liep.\\n    '"
      ]
     },
     "metadata": {},
     "output_type": "display_data"
    }
   ],
   "source": [
    "df = pd.read_json('HetParool.json')\n",
    "\n",
    "display(df['cleantext'].iloc[0])"
   ]
  }
 ],
 "metadata": {
  "kernelspec": {
   "display_name": "Python 3",
   "language": "python",
   "name": "python3"
  },
  "language_info": {
   "codemirror_mode": {
    "name": "ipython",
    "version": 3
   },
   "file_extension": ".py",
   "mimetype": "text/x-python",
   "name": "python",
   "nbconvert_exporter": "python",
   "pygments_lexer": "ipython3",
   "version": "3.11.5"
  }
 },
 "nbformat": 4,
 "nbformat_minor": 4
}
