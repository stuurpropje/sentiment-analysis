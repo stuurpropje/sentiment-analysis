{
 "cells": [
  {
   "cell_type": "code",
   "execution_count": 21,
   "metadata": {},
   "outputs": [
    {
     "data": {
      "text/plain": [
       "'nl_NL'"
      ]
     },
     "execution_count": 21,
     "metadata": {},
     "output_type": "execute_result"
    }
   ],
   "source": [
    "import pandas as pd\n",
    "import re\n",
    "import ast\n",
    "import unicodedata\n",
    "from tqdm import tqdm\n",
    "from docx import Document\n",
    "from datetime import datetime\n",
    "import locale\n",
    "locale.setlocale(locale.LC_ALL, \"nl_NL\")"
   ]
  },
  {
   "cell_type": "code",
   "execution_count": 22,
   "metadata": {},
   "outputs": [],
   "source": [
    "with open('paper_selectors.txt', 'r') as file:\n",
    "    papers = ast.literal_eval(file.read())\n",
    "\n",
    "with open('party_selectors.txt', 'r') as file:\n",
    "    parties = ast.literal_eval(file.read())\n",
    "\n",
    "with open('months.txt', 'r') as file:\n",
    "    months = ast.literal_eval(file.read())"
   ]
  },
  {
   "cell_type": "code",
   "execution_count": 23,
   "metadata": {},
   "outputs": [],
   "source": [
    "# Define a function to extract article information\n",
    "def extract_article_info(article):\n",
    "    # Initialize variables to store article information\n",
    "    newspaper = title = date = author = section = body = None\n",
    "\n",
    "    # Use regular expressions to extract information\n",
    "    for paper in papers:\n",
    "        for month in months:\n",
    "            metadata = re.search(rf'\\s(.*?)\\s({paper})\\s(\\d+\\s{month}\\s2023)', article[0])\n",
    "            if metadata is not None:\n",
    "                title, newspaper, date = metadata.groups()\n",
    "\n",
    "    author_match = re.search(r'Byline:\\s(.*?)\\s(Body|Highlight:)', article[1])\n",
    "    if author_match is not None:\n",
    "        author = author_match.group(1)\n",
    "\n",
    "    section_match = re.search(r'Section:\\s(.*?);', article[1])\n",
    "    if section_match:\n",
    "        section = section_match.group(1)\n",
    "\n",
    "    body_match = re.search(r'Body\\s{3,}?(.*)\\s+?(PDF-bestand|Bekijk\\shier|Bekijk\\sde\\soorspronkelijke\\spagina|Link\\snaar\\sPDF)', article[1])\n",
    "    if not body_match:\n",
    "        body_match = re.search(r'Body\\s{3,}?(.*)', article[1])\n",
    "    if body_match:\n",
    "        body = body_match.group(1).strip()\n",
    "\n",
    "    try:\n",
    "        date_obj = datetime.strptime(date, \"%d %B %Y\")\n",
    "    except:\n",
    "        date_obj = None\n",
    "\n",
    "    return {\n",
    "        'Newspaper': newspaper,\n",
    "        'Title': None if title == 'No Headline In Original' else title,\n",
    "        'Date': date_obj,\n",
    "        'Author': author,\n",
    "        'Section': section,\n",
    "        'Body': body\n",
    "    }"
   ]
  },
  {
   "cell_type": "code",
   "execution_count": 24,
   "metadata": {},
   "outputs": [
    {
     "name": "stderr",
     "output_type": "stream",
     "text": [
      "100%|██████████| 109/109 [01:23<00:00,  1.30it/s]\n"
     ]
    }
   ],
   "source": [
    "articles = []\n",
    "\n",
    "today = datetime.now().strftime('%Y-%m-%d')\n",
    "\n",
    "dates = pd.date_range('2023-08-21', f'{today}', freq='D').strftime('%Y-%m-%d')\n",
    "\n",
    "for date in tqdm(dates):\n",
    "    articles_in_day = []\n",
    "    for n in range(8):\n",
    "\n",
    "        try:\n",
    "            docs = \"\"\n",
    "\n",
    "            doc = Document(f\"../../data/raw_dataset_new/{date} {n}.DOCX\")\n",
    "            for para in doc.paragraphs:\n",
    "                docs = docs + para.text + \" \"\n",
    "\n",
    "            # Split the text into individual articles based on \"End of Document\" separator, remove last empty article\n",
    "            articles_otd = re.split(r'End of Document', docs)\n",
    "            articles_otd = [article.split(\"\\n\") for article in articles_otd]\n",
    "            articles_otd.pop(-1)\n",
    "            articles_otd = [[article[1], article[3]] for article in articles_otd]\n",
    "            articles_otd = [[articles[0], unicodedata.normalize('NFKD', articles[1])] for articles in articles_otd]\n",
    "\n",
    "            for article_otd in articles_otd:\n",
    "                articles_in_day.append(extract_article_info(article_otd))\n",
    "\n",
    "        except:\n",
    "            #TODO error catching\n",
    "            pass\n",
    "            # print(f\"{date} {n} coombination not found\", end=\"/r\")\n",
    "    \n",
    "\n",
    "    articles = articles + articles_in_day"
   ]
  },
  {
   "cell_type": "code",
   "execution_count": 25,
   "metadata": {},
   "outputs": [],
   "source": [
    "df = pd.DataFrame.from_dict(articles)\n",
    "df.to_json(\"../../data/01_cleaned_articles.json\")"
   ]
  }
 ],
 "metadata": {
  "kernelspec": {
   "display_name": "Python 3",
   "language": "python",
   "name": "python3"
  },
  "language_info": {
   "codemirror_mode": {
    "name": "ipython",
    "version": 3
   },
   "file_extension": ".py",
   "mimetype": "text/x-python",
   "name": "python",
   "nbconvert_exporter": "python",
   "pygments_lexer": "ipython3",
   "version": "3.11.5"
  }
 },
 "nbformat": 4,
 "nbformat_minor": 2
}
