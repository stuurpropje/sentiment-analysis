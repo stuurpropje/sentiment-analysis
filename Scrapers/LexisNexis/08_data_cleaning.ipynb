{
 "cells": [
  {
   "cell_type": "markdown",
   "metadata": {},
   "source": [
    "# TODO CLEANING\n",
    "\n",
    "- stopwords removal\n",
    "- punctuation removal\n",
    "- lowercasing\n",
    "- lemmatizing"
   ]
  },
  {
   "cell_type": "markdown",
   "metadata": {},
   "source": [
    "# TODO vectorization\n",
    "\n",
    "LDA\n",
    "vectorizer\n",
    "- naive: bag of words (CountVectorizer)\n",
    "- TF-IDF\n",
    "- Word2Vec\n",
    "- w"
   ]
  },
  {
   "cell_type": "code",
   "execution_count": 46,
   "metadata": {},
   "outputs": [],
   "source": [
    "from tqdm import tqdm\n",
    "from pandarallel import pandarallel\n",
    "from nltk.corpus import stopwords\n",
    "from gensim import models\n",
    "from sklearn.feature_extraction.text import TfidfVectorizer\n",
    "from sklearn.decomposition import LatentDirichletAllocation\n",
    "from gensim.models import LdaModel, CoherenceModel\n",
    "import pandas as pd\n",
    "import string\n",
    "import ast\n",
    "import spacy\n",
    "\n",
    "tqdm.pandas()"
   ]
  },
  {
   "cell_type": "code",
   "execution_count": 2,
   "metadata": {},
   "outputs": [],
   "source": [
    "with open('paper_selectors.txt', 'r') as file:\n",
    "    papers = ast.literal_eval(file.read())\n",
    "\n",
    "with open('party_selectors.txt', 'r') as file:\n",
    "    parties = ast.literal_eval(file.read())\n",
    "\n",
    "with open('party_synonyms.txt', 'r') as file:\n",
    "    party_synonyms = ast.literal_eval(file.read())\n",
    "\n",
    "with open('months.txt', 'r') as file:\n",
    "    months = ast.literal_eval(file.read())\n",
    "\n",
    "with open('min_mentions_per_article.txt', 'r') as file:\n",
    "    min_val = int(file.read())\n",
    "\n",
    "for synonym in party_synonyms:\n",
    "    parties = [x for x in parties if x not in synonym[1:]]"
   ]
  },
  {
   "cell_type": "code",
   "execution_count": 3,
   "metadata": {},
   "outputs": [],
   "source": [
    "df = pd.read_csv(\"../../data/03_data_scored.csv\")"
   ]
  },
  {
   "cell_type": "code",
   "execution_count": 18,
   "metadata": {},
   "outputs": [],
   "source": [
    "def df_apply(df: pd.DataFrame, column: str, function) -> None:\n",
    "    \"\"\"Wrapper to apply a function in place on a DataFrame.\n",
    "\n",
    "    Allows for a shorter representation of applying a function on a dataframe\n",
    "    with a progress bar. tqdm.progress_apply does not support\n",
    "    in-place modification. By wrapping it, the code becomes more readable.\n",
    "\n",
    "    Args:\n",
    "        df (pd.DataFrame): DataFrame to be modified\n",
    "        column (str): Column to be modified.\n",
    "        function (str): Function to apply to column.\n",
    "    \"\"\"\n",
    "    df[column] = df[column].progress_apply(function)\n",
    "\n",
    "def remove_stopwords(text: str) -> str:\n",
    "    \"\"\"Return a text with all stopwords removed.\n",
    "\n",
    "    Args:\n",
    "        text (str): Text to remove stopwords from.\n",
    "    \"\"\"\n",
    "    filler: list[str] = stopwords.words(\"dutch\")\n",
    "    return \" \".join([word for word in text.split() if word not in filler])\n",
    "\n",
    "def remove_punctuation(text: str) -> str:\n",
    "    \"\"\"Return a text with all punctuation removed.\n",
    "\n",
    "    Args:\n",
    "        text (str): Text to remove punctuation from.\n",
    "    \"\"\"\n",
    "    additional_punct: str = string.punctuation + '\"“‘—’”\"'\n",
    "    return text.translate(str.maketrans(\"\", \"\", additional_punct))\n",
    "\n",
    "def lemmatizer(text: str) -> str:\n",
    "    \"\"\"Return a given string in its lemmatized form.\"\"\"\n",
    "    nlp = spacy.load(\"nl_core_news_sm\", disable=[\"parser\", \"ner\"])\n",
    "    doc = nlp(text)\n",
    "    return \" \".join([word.lemma_ for word in doc])"
   ]
  },
  {
   "cell_type": "markdown",
   "metadata": {},
   "source": [
    "First we clean the data by removing punctuation, casing and lemmatizing the words."
   ]
  },
  {
   "cell_type": "code",
   "execution_count": 5,
   "metadata": {},
   "outputs": [
    {
     "name": "stderr",
     "output_type": "stream",
     "text": [
      "100%|██████████| 6769/6769 [00:00<00:00, 772803.19it/s]\n",
      "100%|██████████| 6769/6769 [00:00<00:00, 302591.41it/s]\n",
      "  0%|          | 0/6769 [00:00<?, ?it/s]"
     ]
    },
    {
     "name": "stderr",
     "output_type": "stream",
     "text": [
      "100%|██████████| 6769/6769 [00:00<00:00, 23952.69it/s]\n",
      "100%|██████████| 6769/6769 [00:00<00:00, 70058.59it/s]\n",
      "100%|██████████| 6769/6769 [00:01<00:00, 6753.53it/s]\n",
      "100%|██████████| 6769/6769 [00:02<00:00, 3202.91it/s]\n"
     ]
    }
   ],
   "source": [
    "for corpus in ['Title', 'Body']:\n",
    "    df_apply(df, corpus, lambda x: x.lower() if isinstance(x, str) else x)\n",
    "    df_apply(df, corpus, lambda x: remove_punctuation(x) if isinstance(x, str) else x)\n",
    "    df_apply(df, corpus, lambda x: remove_stopwords(x) if isinstance (x,str) else x)"
   ]
  },
  {
   "cell_type": "code",
   "execution_count": 6,
   "metadata": {},
   "outputs": [
    {
     "data": {
      "text/html": [
       "<div>\n",
       "<style scoped>\n",
       "    .dataframe tbody tr th:only-of-type {\n",
       "        vertical-align: middle;\n",
       "    }\n",
       "\n",
       "    .dataframe tbody tr th {\n",
       "        vertical-align: top;\n",
       "    }\n",
       "\n",
       "    .dataframe thead th {\n",
       "        text-align: right;\n",
       "    }\n",
       "</style>\n",
       "<table border=\"1\" class=\"dataframe\">\n",
       "  <thead>\n",
       "    <tr style=\"text-align: right;\">\n",
       "      <th></th>\n",
       "      <th>Unnamed: 0</th>\n",
       "      <th>Newspaper</th>\n",
       "      <th>Title</th>\n",
       "      <th>Date</th>\n",
       "      <th>Author</th>\n",
       "      <th>Section</th>\n",
       "      <th>Body</th>\n",
       "      <th>VVD</th>\n",
       "      <th>CDA</th>\n",
       "      <th>D66</th>\n",
       "      <th>...</th>\n",
       "      <th>body_vader_scores</th>\n",
       "      <th>body_neg</th>\n",
       "      <th>body_neu</th>\n",
       "      <th>body_pos</th>\n",
       "      <th>body_compound</th>\n",
       "      <th>title_vader_scores</th>\n",
       "      <th>title_neg</th>\n",
       "      <th>title_neu</th>\n",
       "      <th>title_pos</th>\n",
       "      <th>title_compound</th>\n",
       "    </tr>\n",
       "  </thead>\n",
       "  <tbody>\n",
       "    <tr>\n",
       "      <th>0</th>\n",
       "      <td>0</td>\n",
       "      <td>AD</td>\n",
       "      <td>omtzigt mengt strijd boek vol plannen drie ton...</td>\n",
       "      <td>2023-08-21</td>\n",
       "      <td>Niels Klaassen</td>\n",
       "      <td>NaN</td>\n",
       "      <td>pieter omtzigt mikt gematigde groei nieuwe par...</td>\n",
       "      <td>2</td>\n",
       "      <td>5</td>\n",
       "      <td>0</td>\n",
       "      <td>...</td>\n",
       "      <td>{'neg': 0.0, 'neu': 0.935, 'pos': 0.065, 'comp...</td>\n",
       "      <td>0.000</td>\n",
       "      <td>0.935</td>\n",
       "      <td>0.065</td>\n",
       "      <td>0.4019</td>\n",
       "      <td>{'neg': 0.0, 'neu': 1.0, 'pos': 0.0, 'compound...</td>\n",
       "      <td>0.000</td>\n",
       "      <td>1.000</td>\n",
       "      <td>0.000</td>\n",
       "      <td>0.0000</td>\n",
       "    </tr>\n",
       "    <tr>\n",
       "      <th>1</th>\n",
       "      <td>1</td>\n",
       "      <td>Parool</td>\n",
       "      <td>plofpartij gamechanger we verwachten nieuwe pa...</td>\n",
       "      <td>2023-08-21</td>\n",
       "      <td>Niels Klaassen</td>\n",
       "      <td>NaN</td>\n",
       "      <td>pieter omtzigt mikt gematigde groei partij nie...</td>\n",
       "      <td>2</td>\n",
       "      <td>6</td>\n",
       "      <td>0</td>\n",
       "      <td>...</td>\n",
       "      <td>{'neg': 0.046, 'neu': 0.833, 'pos': 0.121, 'co...</td>\n",
       "      <td>0.046</td>\n",
       "      <td>0.833</td>\n",
       "      <td>0.121</td>\n",
       "      <td>0.9950</td>\n",
       "      <td>{'neg': 0.0, 'neu': 1.0, 'pos': 0.0, 'compound...</td>\n",
       "      <td>0.000</td>\n",
       "      <td>1.000</td>\n",
       "      <td>0.000</td>\n",
       "      <td>0.0000</td>\n",
       "    </tr>\n",
       "    <tr>\n",
       "      <th>2</th>\n",
       "      <td>2</td>\n",
       "      <td>Volkskrant</td>\n",
       "      <td>kaarten rechts opnieuw geschud</td>\n",
       "      <td>2023-08-21</td>\n",
       "      <td>RAOUL DU PRÉ</td>\n",
       "      <td>Ten Eerste</td>\n",
       "      <td>analyse vvd sluit pvv frans weisglas oudvoorzi...</td>\n",
       "      <td>15</td>\n",
       "      <td>2</td>\n",
       "      <td>2</td>\n",
       "      <td>...</td>\n",
       "      <td>{'neg': 0.055, 'neu': 0.823, 'pos': 0.123, 'co...</td>\n",
       "      <td>0.055</td>\n",
       "      <td>0.823</td>\n",
       "      <td>0.123</td>\n",
       "      <td>0.9955</td>\n",
       "      <td>{'neg': 0.121, 'neu': 0.823, 'pos': 0.056, 'co...</td>\n",
       "      <td>0.121</td>\n",
       "      <td>0.823</td>\n",
       "      <td>0.056</td>\n",
       "      <td>-0.3612</td>\n",
       "    </tr>\n",
       "    <tr>\n",
       "      <th>3</th>\n",
       "      <td>3</td>\n",
       "      <td>Trouw</td>\n",
       "      <td>pvv</td>\n",
       "      <td>2023-08-21</td>\n",
       "      <td>STEVO AKKERMAN</td>\n",
       "      <td>Vandaag</td>\n",
       "      <td>dilan yesilgöz opwierp opvolger mark rutte vi...</td>\n",
       "      <td>6</td>\n",
       "      <td>0</td>\n",
       "      <td>0</td>\n",
       "      <td>...</td>\n",
       "      <td>{'neg': 0.136, 'neu': 0.808, 'pos': 0.056, 'co...</td>\n",
       "      <td>0.136</td>\n",
       "      <td>0.808</td>\n",
       "      <td>0.056</td>\n",
       "      <td>-0.9788</td>\n",
       "      <td>{'neg': 0.402, 'neu': 0.598, 'pos': 0.0, 'comp...</td>\n",
       "      <td>0.402</td>\n",
       "      <td>0.598</td>\n",
       "      <td>0.000</td>\n",
       "      <td>-0.8126</td>\n",
       "    </tr>\n",
       "    <tr>\n",
       "      <th>4</th>\n",
       "      <td>4</td>\n",
       "      <td>AD</td>\n",
       "      <td>vvdkamerlid woordvoerder sport rudmer heerema ...</td>\n",
       "      <td>2023-08-21</td>\n",
       "      <td>Politieke redactie</td>\n",
       "      <td>NaN</td>\n",
       "      <td>vvdkamerlid rudmer heerema keert aankomende tw...</td>\n",
       "      <td>4</td>\n",
       "      <td>1</td>\n",
       "      <td>1</td>\n",
       "      <td>...</td>\n",
       "      <td>{'neg': 0.081, 'neu': 0.757, 'pos': 0.161, 'co...</td>\n",
       "      <td>0.081</td>\n",
       "      <td>0.757</td>\n",
       "      <td>0.161</td>\n",
       "      <td>0.9943</td>\n",
       "      <td>{'neg': 0.0, 'neu': 0.69, 'pos': 0.31, 'compou...</td>\n",
       "      <td>0.000</td>\n",
       "      <td>0.690</td>\n",
       "      <td>0.310</td>\n",
       "      <td>0.2023</td>\n",
       "    </tr>\n",
       "  </tbody>\n",
       "</table>\n",
       "<p>5 rows × 34 columns</p>\n",
       "</div>"
      ],
      "text/plain": [
       "   Unnamed: 0   Newspaper                                              Title  \\\n",
       "0           0          AD  omtzigt mengt strijd boek vol plannen drie ton...   \n",
       "1           1      Parool  plofpartij gamechanger we verwachten nieuwe pa...   \n",
       "2           2  Volkskrant                     kaarten rechts opnieuw geschud   \n",
       "3           3       Trouw                                                pvv   \n",
       "4           4          AD  vvdkamerlid woordvoerder sport rudmer heerema ...   \n",
       "\n",
       "         Date              Author     Section  \\\n",
       "0  2023-08-21      Niels Klaassen         NaN   \n",
       "1  2023-08-21      Niels Klaassen         NaN   \n",
       "2  2023-08-21       RAOUL DU PRÉ  Ten Eerste   \n",
       "3  2023-08-21      STEVO AKKERMAN     Vandaag   \n",
       "4  2023-08-21  Politieke redactie         NaN   \n",
       "\n",
       "                                                Body  VVD  CDA  D66  ...  \\\n",
       "0  pieter omtzigt mikt gematigde groei nieuwe par...    2    5    0  ...   \n",
       "1  pieter omtzigt mikt gematigde groei partij nie...    2    6    0  ...   \n",
       "2  analyse vvd sluit pvv frans weisglas oudvoorzi...   15    2    2  ...   \n",
       "3  dilan yesilgöz opwierp opvolger mark rutte vi...    6    0    0  ...   \n",
       "4  vvdkamerlid rudmer heerema keert aankomende tw...    4    1    1  ...   \n",
       "\n",
       "                                   body_vader_scores  body_neg  body_neu  \\\n",
       "0  {'neg': 0.0, 'neu': 0.935, 'pos': 0.065, 'comp...     0.000     0.935   \n",
       "1  {'neg': 0.046, 'neu': 0.833, 'pos': 0.121, 'co...     0.046     0.833   \n",
       "2  {'neg': 0.055, 'neu': 0.823, 'pos': 0.123, 'co...     0.055     0.823   \n",
       "3  {'neg': 0.136, 'neu': 0.808, 'pos': 0.056, 'co...     0.136     0.808   \n",
       "4  {'neg': 0.081, 'neu': 0.757, 'pos': 0.161, 'co...     0.081     0.757   \n",
       "\n",
       "   body_pos  body_compound                                 title_vader_scores  \\\n",
       "0     0.065         0.4019  {'neg': 0.0, 'neu': 1.0, 'pos': 0.0, 'compound...   \n",
       "1     0.121         0.9950  {'neg': 0.0, 'neu': 1.0, 'pos': 0.0, 'compound...   \n",
       "2     0.123         0.9955  {'neg': 0.121, 'neu': 0.823, 'pos': 0.056, 'co...   \n",
       "3     0.056        -0.9788  {'neg': 0.402, 'neu': 0.598, 'pos': 0.0, 'comp...   \n",
       "4     0.161         0.9943  {'neg': 0.0, 'neu': 0.69, 'pos': 0.31, 'compou...   \n",
       "\n",
       "   title_neg  title_neu  title_pos  title_compound  \n",
       "0      0.000      1.000      0.000          0.0000  \n",
       "1      0.000      1.000      0.000          0.0000  \n",
       "2      0.121      0.823      0.056         -0.3612  \n",
       "3      0.402      0.598      0.000         -0.8126  \n",
       "4      0.000      0.690      0.310          0.2023  \n",
       "\n",
       "[5 rows x 34 columns]"
      ]
     },
     "execution_count": 6,
     "metadata": {},
     "output_type": "execute_result"
    }
   ],
   "source": [
    "df.head()"
   ]
  },
  {
   "cell_type": "markdown",
   "metadata": {},
   "source": [
    "Now we lemmatize the title and body"
   ]
  },
  {
   "cell_type": "code",
   "execution_count": 22,
   "metadata": {},
   "outputs": [
    {
     "name": "stdout",
     "output_type": "stream",
     "text": [
      "INFO: Pandarallel will run on 8 workers.\n",
      "INFO: Pandarallel will use standard multiprocessing data transfer (pipe) to transfer data between the main process and workers.\n"
     ]
    },
    {
     "data": {
      "application/vnd.jupyter.widget-view+json": {
       "model_id": "854e5aa4ea08489d91bcdf26ac17dee7",
       "version_major": 2,
       "version_minor": 0
      },
      "text/plain": [
       "VBox(children=(HBox(children=(IntProgress(value=0, description='0.00%', max=847), Label(value='0 / 847'))), HB…"
      ]
     },
     "metadata": {},
     "output_type": "display_data"
    },
    {
     "data": {
      "text/plain": [
       "0       omtzigen mengen strijd boek vol plan drie ton ...\n",
       "1       plofpartij gamechang we verwachten nieuw parti...\n",
       "2                           kaart rechts opnieuw schudden\n",
       "3                                                     pvv\n",
       "4       vvdkamerlid woordvoerder Sport rudm heerema st...\n",
       "                              ...                        \n",
       "6764              vervuiling tasten ons bestaanszekerheid\n",
       "6765    pieter omtzigen veronrustend rapport vuurwerkr...\n",
       "6766    pensioen stijgen verschil groot zorg verkiezin...\n",
       "6767    fonds verhogen pensioen intussen bezorgd verki...\n",
       "6768                     yesilgöz reageren omtzigtnotitie\n",
       "Name: Title, Length: 6769, dtype: object"
      ]
     },
     "execution_count": 22,
     "metadata": {},
     "output_type": "execute_result"
    }
   ],
   "source": [
    "pandarallel.initialize(progress_bar=True)\n",
    "\n",
    "df['Title'].parallel_apply(lambda x: lemmatizer(x) if isinstance(x, str) else x)"
   ]
  },
  {
   "cell_type": "code",
   "execution_count": 23,
   "metadata": {},
   "outputs": [
    {
     "data": {
      "application/vnd.jupyter.widget-view+json": {
       "model_id": "a924ae0c31ff498eb8971ae290825d97",
       "version_major": 2,
       "version_minor": 0
      },
      "text/plain": [
       "VBox(children=(HBox(children=(IntProgress(value=0, description='0.00%', max=847), Label(value='0 / 847'))), HB…"
      ]
     },
     "metadata": {},
     "output_type": "display_data"
    },
    {
     "data": {
      "text/plain": [
       "0       pieter omtzigt mikt matigen groei nieuw partij...\n",
       "1       pieter omtzigt mikt matigen groei partij nieuw...\n",
       "2       analyse vvd aansluiten pvv Frans weisglas oudv...\n",
       "3       dilan yesilgöz opwierp opvolg Mark ruten vall...\n",
       "4       vvdkamerlid rudmer heerema terugkeren aankomen...\n",
       "                              ...                        \n",
       "6764    leefomgeving nieuw sociaal contract nsc partij...\n",
       "6765    „ dit gebeuren wanneer regering stuk achterhou...\n",
       "6766    pensioengerechtigd zien pensioen volgen jaar w...\n",
       "6767    elk jaar kijken fonds weer pensioen mee laten ...\n",
       "6768    vvdpartijleiad dilan yesilgöz Den Haag reager...\n",
       "Name: Body, Length: 6769, dtype: object"
      ]
     },
     "execution_count": 23,
     "metadata": {},
     "output_type": "execute_result"
    }
   ],
   "source": [
    "df['Body'].parallel_apply(lambda x: lemmatizer(x) if isinstance(x, str) else x)"
   ]
  },
  {
   "cell_type": "code",
   "execution_count": 48,
   "metadata": {},
   "outputs": [],
   "source": [
    "df.to_csv('../../data/06_preprocessed_data.csv')"
   ]
  },
  {
   "cell_type": "markdown",
   "metadata": {},
   "source": [
    "model source: \n",
    "https://github.com/coosto/dutch-word-embeddings"
   ]
  }
 ],
 "metadata": {
  "kernelspec": {
   "display_name": "Python 3",
   "language": "python",
   "name": "python3"
  },
  "language_info": {
   "codemirror_mode": {
    "name": "ipython",
    "version": 3
   },
   "file_extension": ".py",
   "mimetype": "text/x-python",
   "name": "python",
   "nbconvert_exporter": "python",
   "pygments_lexer": "ipython3",
   "version": "3.11.5"
  }
 },
 "nbformat": 4,
 "nbformat_minor": 2
}
